{
 "cells": [
  {
   "cell_type": "markdown",
   "id": "da338e30",
   "metadata": {},
   "source": [
    "Use the following code for the questions below:"
   ]
  },
  {
   "cell_type": "code",
   "execution_count": 92,
   "id": "8dc72192",
   "metadata": {},
   "outputs": [
    {
     "data": {
      "text/plain": [
       "array([ 4, 10, 12, 23, -2, -1,  0,  0,  0, -6,  3, -7])"
      ]
     },
     "execution_count": 92,
     "metadata": {},
     "output_type": "execute_result"
    }
   ],
   "source": [
    "import numpy as np #industry standard\n",
    "\n",
    "a = np.array([4, 10, 12, 23, -2, -1, 0, 0, 0, -6, 3, -7])\n",
    "a"
   ]
  },
  {
   "cell_type": "markdown",
   "id": "7ddd1e9e",
   "metadata": {},
   "source": [
    "1. How many negative numbers are there?\n"
   ]
  },
  {
   "cell_type": "code",
   "execution_count": 93,
   "id": "ce160a56",
   "metadata": {},
   "outputs": [
    {
     "data": {
      "text/plain": [
       "4"
      ]
     },
     "execution_count": 93,
     "metadata": {},
     "output_type": "execute_result"
    }
   ],
   "source": [
    "num_negative = np.sum(a < 0) #uses the sum function together wanting only those less than 0\n",
    "                        # notice that it doesn't add these 4 negative numbers\n",
    "num_negative"
   ]
  },
  {
   "cell_type": "code",
   "execution_count": 94,
   "id": "b3c6b1de",
   "metadata": {},
   "outputs": [
    {
     "name": "stdout",
     "output_type": "stream",
     "text": [
      "[-2 -1 -6 -7]\n",
      "-16\n"
     ]
    }
   ],
   "source": [
    "# example for fun # If I was to want the 4 negatives to be sumed up #\n",
    "\n",
    "negative_numbers = a[a < 0] #returns the negative numbers only (4 of them)\n",
    "\n",
    "sum_of_negatives = np.sum(negative_numbers)\n",
    "\n",
    "print(negative_numbers)\n",
    "print(sum_of_negatives)"
   ]
  },
  {
   "cell_type": "markdown",
   "id": "1a897d19",
   "metadata": {},
   "source": [
    "2. How many positive numbers are there?\n"
   ]
  },
  {
   "cell_type": "code",
   "execution_count": 95,
   "id": "338bafe7",
   "metadata": {},
   "outputs": [
    {
     "data": {
      "text/plain": [
       "5"
      ]
     },
     "execution_count": 95,
     "metadata": {},
     "output_type": "execute_result"
    }
   ],
   "source": [
    "num_positive = np.sum(a > 0)\n",
    "\n",
    "num_positive"
   ]
  },
  {
   "cell_type": "code",
   "execution_count": 100,
   "id": "5bf633e6",
   "metadata": {},
   "outputs": [
    {
     "data": {
      "text/plain": [
       "5"
      ]
     },
     "execution_count": 100,
     "metadata": {},
     "output_type": "execute_result"
    }
   ],
   "source": [
    "(a > 0).sum() # Trues have a value of 1"
   ]
  },
  {
   "cell_type": "markdown",
   "id": "cb7548b7",
   "metadata": {},
   "source": [
    "3. How many even positive numbers are there?"
   ]
  },
  {
   "cell_type": "code",
   "execution_count": 28,
   "id": "c364c4a2",
   "metadata": {},
   "outputs": [
    {
     "name": "stdout",
     "output_type": "stream",
     "text": [
      "[ 4 10 12]\n"
     ]
    },
    {
     "data": {
      "text/plain": [
       "3"
      ]
     },
     "execution_count": 28,
     "metadata": {},
     "output_type": "execute_result"
    }
   ],
   "source": [
    "even_positive = a[(a > 0) & (a % 2 == 0)]\n",
    "\n",
    "print(even_positive)\n",
    "len(even_positive)"
   ]
  },
  {
   "cell_type": "code",
   "execution_count": 31,
   "id": "a8f39b49",
   "metadata": {},
   "outputs": [
    {
     "data": {
      "text/plain": [
       "3"
      ]
     },
     "execution_count": 31,
     "metadata": {},
     "output_type": "execute_result"
    }
   ],
   "source": [
    "# another simple way ex.\n",
    "even_positive_2 = np.sum((a > 0) & (a % 2 == 0))\n",
    "even_positive_2"
   ]
  },
  {
   "cell_type": "markdown",
   "id": "0dfb20f7",
   "metadata": {},
   "source": [
    "4. If you were to add 3 to each data point, how many positive numbers would there be?\n"
   ]
  },
  {
   "cell_type": "code",
   "execution_count": 38,
   "id": "b048bffc",
   "metadata": {},
   "outputs": [
    {
     "name": "stdout",
     "output_type": "stream",
     "text": [
      "[ 7 13 15 26  1  2  3  3  3 -3  6 -4]\n"
     ]
    },
    {
     "data": {
      "text/plain": [
       "10"
      ]
     },
     "execution_count": 38,
     "metadata": {},
     "output_type": "execute_result"
    }
   ],
   "source": [
    "a_plus_3 = a + 3\n",
    "print(a_plus_3) # printing all 12 with the added 3\n",
    "\n",
    "\n",
    "num_positive_plus_3 = np.sum(a_plus_3 > 0) # counting only the 10 positive numbers\n",
    "num_positive_plus_3"
   ]
  },
  {
   "cell_type": "code",
   "execution_count": 103,
   "id": "72d522ef",
   "metadata": {},
   "outputs": [
    {
     "data": {
      "text/plain": [
       "10"
      ]
     },
     "execution_count": 103,
     "metadata": {},
     "output_type": "execute_result"
    }
   ],
   "source": [
    "((a + 3) > 0).sum() # Counts the Trues"
   ]
  },
  {
   "cell_type": "markdown",
   "id": "b5e4d5c9",
   "metadata": {},
   "source": [
    "5. If you squared each number, what would the new mean and standard deviation be?\n"
   ]
  },
  {
   "cell_type": "code",
   "execution_count": 43,
   "id": "9e2a7c04",
   "metadata": {},
   "outputs": [
    {
     "name": "stdout",
     "output_type": "stream",
     "text": [
      "[ 16 100 144 529   4   1   0   0   0  36   9  49]\n",
      "\n",
      "74.0\n",
      "144.0243035046516\n"
     ]
    }
   ],
   "source": [
    "a_squared = a ** 2\n",
    "\n",
    "print(a_squared)\n",
    "print()\n",
    "print(np.mean(a_squared))\n",
    "print(np.std(a_squared))"
   ]
  },
  {
   "cell_type": "markdown",
   "id": "afae1803",
   "metadata": {},
   "source": [
    "6. A common statistical operation on a dataset is centering. This means to adjust the data such that the mean of the data is 0. This is done by subtracting the mean from each data point. Center the data set. See this link for more on centering.\n"
   ]
  },
  {
   "cell_type": "code",
   "execution_count": 104,
   "id": "14b01dec",
   "metadata": {},
   "outputs": [
    {
     "name": "stdout",
     "output_type": "stream",
     "text": [
      "[ 4 10 12 23 -2 -1  0  0  0 -6  3 -7]\n",
      "3.0\n",
      "\n",
      "0.0\n"
     ]
    },
    {
     "data": {
      "text/plain": [
       "array([  1,   7,   9,  20,  -5,  -4,  -3,  -3,  -3,  -9,   0, -10])"
      ]
     },
     "execution_count": 104,
     "metadata": {},
     "output_type": "execute_result"
    }
   ],
   "source": [
    "print(a)\n",
    "print(np.mean(a))\n",
    "print()\n",
    "\n",
    "a_centered = a - 3\n",
    "print(np.mean(a_centered))\n",
    "a_centered"
   ]
  },
  {
   "cell_type": "markdown",
   "id": "acc0c967",
   "metadata": {},
   "source": [
    "7. Calculate the z-score for each data point. Recall that the z-score is given by: (known as standardizing)\n",
    "\n",
    "Z = (x − μ) / σ\n",
    "\n",
    "$\\mu$ = Mean\n",
    "\n",
    "$\\sigma$ = Standard Deviation"
   ]
  },
  {
   "cell_type": "code",
   "execution_count": 106,
   "id": "7fb5f8c0",
   "metadata": {},
   "outputs": [
    {
     "name": "stdout",
     "output_type": "stream",
     "text": [
      "3.0\n",
      "8.06225774829855\n",
      "\n",
      "[ 0.12403473  0.86824314  1.11631261  2.48069469 -0.62017367 -0.49613894\n",
      " -0.3721042  -0.3721042  -0.3721042  -1.11631261  0.         -1.24034735]\n"
     ]
    }
   ],
   "source": [
    "print(np.mean(a))\n",
    "print(np.std(a))\n",
    "print()\n",
    "a_z_score = (a - (np.mean(a))) / (np.std(a))\n",
    "\n",
    "print(a_z_score)\n",
    "\n",
    "# This is now a standard normal distribution, where it is centered (mean is 0) and the\n",
    "# Std is 1.\n",
    "\n",
    "# To go back to a normal distribution, multiply Std then add the mean.\n",
    "# (which will give the original array)"
   ]
  },
  {
   "cell_type": "markdown",
   "id": "14910382",
   "metadata": {},
   "source": [
    "## 8. Copy the setup and exercise directions from More Numpy Practice into your numpy_exercises.py and add your solutions."
   ]
  },
  {
   "cell_type": "code",
   "execution_count": 108,
   "id": "ae55ba59",
   "metadata": {},
   "outputs": [],
   "source": [
    "import numpy as np\n",
    "# Life w/o numpy to life with numpy"
   ]
  },
  {
   "cell_type": "code",
   "execution_count": 109,
   "id": "a347ade3",
   "metadata": {},
   "outputs": [
    {
     "data": {
      "text/plain": [
       "[1, 2, 3, 4, 5, 6, 7, 8, 9, 10]"
      ]
     },
     "execution_count": 109,
     "metadata": {},
     "output_type": "execute_result"
    }
   ],
   "source": [
    "## Setup 1\n",
    "a = [1, 2, 3, 4, 5, 6, 7, 8, 9, 10]\n",
    "a"
   ]
  },
  {
   "cell_type": "markdown",
   "id": "891f395e",
   "metadata": {},
   "source": [
    "### Use python's built in functionality/operators to determine the following:"
   ]
  },
  {
   "cell_type": "markdown",
   "id": "51e6ccdb",
   "metadata": {},
   "source": [
    "Exercise 1 - Make a variable called sum_of_a to hold the sum of all the numbers in above list"
   ]
  },
  {
   "cell_type": "code",
   "execution_count": 110,
   "id": "201e78e4",
   "metadata": {},
   "outputs": [
    {
     "data": {
      "text/plain": [
       "55"
      ]
     },
     "execution_count": 110,
     "metadata": {},
     "output_type": "execute_result"
    }
   ],
   "source": [
    "sum_of_a = sum(a)\n",
    "# sum_of_a = np.sum(a) # using numpy to call functijons\n",
    "sum_of_a"
   ]
  },
  {
   "cell_type": "markdown",
   "id": "dde5fa62",
   "metadata": {},
   "source": [
    "Exercise 2 - Make a variable named min_of_a to hold the minimum of all the numbers in the above list"
   ]
  },
  {
   "cell_type": "code",
   "execution_count": 111,
   "id": "03f71f3f",
   "metadata": {},
   "outputs": [
    {
     "data": {
      "text/plain": [
       "1"
      ]
     },
     "execution_count": 111,
     "metadata": {},
     "output_type": "execute_result"
    }
   ],
   "source": [
    "min_of_a = min(a)\n",
    "# min_of_a = np.min(a) # using numpy to call functijons\n",
    "min_of_a"
   ]
  },
  {
   "cell_type": "markdown",
   "id": "0aa6a014",
   "metadata": {},
   "source": [
    "Exercise 3 - Make a variable named max_of_a to hold the max number of all the numbers in the above list"
   ]
  },
  {
   "cell_type": "code",
   "execution_count": 112,
   "id": "bc44b3b2",
   "metadata": {},
   "outputs": [
    {
     "data": {
      "text/plain": [
       "10"
      ]
     },
     "execution_count": 112,
     "metadata": {},
     "output_type": "execute_result"
    }
   ],
   "source": [
    "max_of_a = max(a)\n",
    "# max_of_a = np.max(a)\n",
    "max_of_a"
   ]
  },
  {
   "cell_type": "markdown",
   "id": "f29ef5da",
   "metadata": {},
   "source": [
    "Exercise 4 - Make a variable named mean_of_a to hold the average of all the numbers in the above list"
   ]
  },
  {
   "cell_type": "code",
   "execution_count": 113,
   "id": "daaffb99",
   "metadata": {},
   "outputs": [
    {
     "data": {
      "text/plain": [
       "5.5"
      ]
     },
     "execution_count": 113,
     "metadata": {},
     "output_type": "execute_result"
    }
   ],
   "source": [
    "mean_of_a = sum(a) / len(a)\n",
    "# mean_of_a = np.mean(a)\n",
    "mean_of_a"
   ]
  },
  {
   "cell_type": "markdown",
   "id": "0998de12",
   "metadata": {},
   "source": [
    "Exercise 5 - Make a variable named product_of_a to hold the product of multiplying all the numbers in the above list together"
   ]
  },
  {
   "cell_type": "code",
   "execution_count": 115,
   "id": "769f8f69",
   "metadata": {},
   "outputs": [
    {
     "data": {
      "text/plain": [
       "3628800"
      ]
     },
     "execution_count": 115,
     "metadata": {},
     "output_type": "execute_result"
    }
   ],
   "source": [
    "product_of_a = 1\n",
    "\n",
    "for i in a:\n",
    "    product_of_a *= i\n",
    "    \n",
    "# product_of_a = np.product(a) # using numpy\n",
    "product_of_a"
   ]
  },
  {
   "cell_type": "markdown",
   "id": "3ad68890",
   "metadata": {},
   "source": [
    "Exercise 6 - Make a variable named squares_of_a. It should hold each number in a squared like [1, 4, 9, 16, 25...]"
   ]
  },
  {
   "cell_type": "code",
   "execution_count": 88,
   "id": "3c3087dc",
   "metadata": {},
   "outputs": [
    {
     "data": {
      "text/plain": [
       "[1, 4, 9, 16, 25, 36, 49, 64, 81, 100]"
      ]
     },
     "execution_count": 88,
     "metadata": {},
     "output_type": "execute_result"
    }
   ],
   "source": [
    "squares_of_a = [n**2 for n in a] \n",
    "squares_of_a"
   ]
  },
  {
   "cell_type": "code",
   "execution_count": 116,
   "id": "ee344822",
   "metadata": {},
   "outputs": [
    {
     "data": {
      "text/plain": [
       "[1, 4, 9, 16, 25, 36, 49, 64, 81, 100, 1, 4, 9, 16, 25, 36, 49, 64, 81, 100]"
      ]
     },
     "execution_count": 116,
     "metadata": {},
     "output_type": "execute_result"
    }
   ],
   "source": [
    "square_of_a = []\n",
    "\n",
    "for i in a :\n",
    "    squares_of_a.append(i**2)\n",
    "    \n",
    "squares_of_a"
   ]
  },
  {
   "cell_type": "markdown",
   "id": "01eff229",
   "metadata": {},
   "source": [
    "Exercise 7 - Make a variable named odds_in_a. It should hold only the odd numbers"
   ]
  },
  {
   "cell_type": "code",
   "execution_count": 121,
   "id": "be8481dc",
   "metadata": {},
   "outputs": [
    {
     "data": {
      "text/plain": [
       "[1, 3, 5, 7, 9]"
      ]
     },
     "execution_count": 121,
     "metadata": {},
     "output_type": "execute_result"
    }
   ],
   "source": [
    "odds_in_a = []\n",
    "\n",
    "for i in a:\n",
    "    if i % 2 == 1:\n",
    "#         print(i)\n",
    "        odds_in_a.append(i)\n",
    "        \n",
    "odds_in_a"
   ]
  },
  {
   "cell_type": "markdown",
   "id": "2e1ab426",
   "metadata": {},
   "source": [
    "Exercise 8 - Make a variable named evens_in_a. It should hold only the evens."
   ]
  },
  {
   "cell_type": "code",
   "execution_count": 124,
   "id": "87840140",
   "metadata": {},
   "outputs": [
    {
     "data": {
      "text/plain": [
       "[2, 4, 6, 8, 10]"
      ]
     },
     "execution_count": 124,
     "metadata": {},
     "output_type": "execute_result"
    }
   ],
   "source": [
    "evens_in_a = []\n",
    "\n",
    "for i in a:\n",
    "    if i % 2 == 0:\n",
    "#         print(i)\n",
    "        evens_in_a.append(i)\n",
    "\n",
    "evens_in_a\n",
    "\n",
    "# completed all 8 above using built-in function NOT from numpy (classic way)"
   ]
  },
  {
   "cell_type": "markdown",
   "id": "3c52e4a1",
   "metadata": {},
   "source": [
    "### What about life in two dimensions? A list of lists is matrix, a table, a spreadsheet, a chessboard..."
   ]
  },
  {
   "cell_type": "markdown",
   "id": "e0ba5b47",
   "metadata": {},
   "source": [
    "## Setup 2: Consider what it would take to find the sum, min, max, average, sum, product,  and list of squares for this list of two lists."
   ]
  },
  {
   "cell_type": "code",
   "execution_count": null,
   "id": "8a81f59a",
   "metadata": {},
   "outputs": [],
   "source": [
    "b = [\n",
    "    [3, 4, 5],\n",
    "    [6, 7, 8]\n",
    "]"
   ]
  },
  {
   "cell_type": "code",
   "execution_count": 125,
   "id": "c846e1c2",
   "metadata": {},
   "outputs": [],
   "source": [
    "b = np.array(b)"
   ]
  },
  {
   "cell_type": "code",
   "execution_count": null,
   "id": "ae4dffa2",
   "metadata": {},
   "outputs": [],
   "source": [
    "# Exercise 1 - refactor the following to use numpy. Use sum_of_b as the variable. \n",
    "# **Hint, you'll first need to make sure that the \"b\" variable is a numpy array**"
   ]
  },
  {
   "cell_type": "code",
   "execution_count": null,
   "id": "36914303",
   "metadata": {},
   "outputs": [],
   "source": [
    "sum_of_b = 0\n",
    "for row in b:\n",
    "    sum_of_b += sum(row)"
   ]
  },
  {
   "cell_type": "code",
   "execution_count": 126,
   "id": "74044f64",
   "metadata": {},
   "outputs": [
    {
     "data": {
      "text/plain": [
       "33"
      ]
     },
     "execution_count": 126,
     "metadata": {},
     "output_type": "execute_result"
    }
   ],
   "source": [
    "np.sum(b)"
   ]
  },
  {
   "cell_type": "code",
   "execution_count": 127,
   "id": "d6fe7495",
   "metadata": {},
   "outputs": [
    {
     "data": {
      "text/plain": [
       "33"
      ]
     },
     "execution_count": 127,
     "metadata": {},
     "output_type": "execute_result"
    }
   ],
   "source": [
    "b.sum()"
   ]
  },
  {
   "cell_type": "code",
   "execution_count": 128,
   "id": "49630f6b",
   "metadata": {},
   "outputs": [
    {
     "data": {
      "text/plain": [
       "array([ 9, 11, 13])"
      ]
     },
     "execution_count": 128,
     "metadata": {},
     "output_type": "execute_result"
    }
   ],
   "source": [
    "sum(b) # adding each column together but not what we want, this is the NON-numpy way"
   ]
  },
  {
   "cell_type": "code",
   "execution_count": 129,
   "id": "9850114d",
   "metadata": {},
   "outputs": [
    {
     "data": {
      "text/plain": [
       "33"
      ]
     },
     "execution_count": 129,
     "metadata": {},
     "output_type": "execute_result"
    }
   ],
   "source": [
    "sum(sum(b)) # Does give the result and is the NON-numpy way"
   ]
  },
  {
   "cell_type": "code",
   "execution_count": null,
   "id": "35059e56",
   "metadata": {},
   "outputs": [],
   "source": [
    "# Exercise 2 - refactor the following to use numpy. "
   ]
  },
  {
   "cell_type": "code",
   "execution_count": null,
   "id": "8bad74ee",
   "metadata": {},
   "outputs": [],
   "source": [
    "min_of_b = min(b[0]) if min(b[0]) <= min(b[1]) else min(b[1])  "
   ]
  },
  {
   "cell_type": "code",
   "execution_count": 130,
   "id": "f887294a",
   "metadata": {},
   "outputs": [
    {
     "data": {
      "text/plain": [
       "3"
      ]
     },
     "execution_count": 130,
     "metadata": {},
     "output_type": "execute_result"
    }
   ],
   "source": [
    "np.min(b)"
   ]
  },
  {
   "cell_type": "code",
   "execution_count": null,
   "id": "29f886d8",
   "metadata": {},
   "outputs": [],
   "source": [
    "# Exercise 3 - refactor the following maximum calculation to find the answer with numpy."
   ]
  },
  {
   "cell_type": "code",
   "execution_count": null,
   "id": "0aab0b82",
   "metadata": {},
   "outputs": [],
   "source": [
    "max_of_b = max(b[0]) if max(b[0]) >= max(b[1]) else max(b[1])"
   ]
  },
  {
   "cell_type": "code",
   "execution_count": 133,
   "id": "f400e4a6",
   "metadata": {},
   "outputs": [
    {
     "data": {
      "text/plain": [
       "8"
      ]
     },
     "execution_count": 133,
     "metadata": {},
     "output_type": "execute_result"
    }
   ],
   "source": [
    "np.max(b)"
   ]
  },
  {
   "cell_type": "code",
   "execution_count": null,
   "id": "98e92345",
   "metadata": {},
   "outputs": [],
   "source": [
    "# Exercise 4 - refactor the following using numpy to find the mean of b\n",
    "mean_of_b = (sum(b[0]) + sum(b[1])) / (len(b[0]) + len(b[1]))"
   ]
  },
  {
   "cell_type": "code",
   "execution_count": 134,
   "id": "ca34b758",
   "metadata": {},
   "outputs": [
    {
     "data": {
      "text/plain": [
       "5.5"
      ]
     },
     "execution_count": 134,
     "metadata": {},
     "output_type": "execute_result"
    }
   ],
   "source": [
    "np.mean(b)"
   ]
  },
  {
   "cell_type": "code",
   "execution_count": null,
   "id": "4bb832d5",
   "metadata": {},
   "outputs": [],
   "source": [
    "# Exercise 5 - refactor the following to use numpy for calculating the product of all "
   ]
  },
  {
   "cell_type": "code",
   "execution_count": null,
   "id": "12f97f5f",
   "metadata": {},
   "outputs": [],
   "source": [
    "# numbers multiplied together.\n",
    "product_of_b = 1\n",
    "for row in b:\n",
    "    for number in row:\n",
    "        product_of_b *= number"
   ]
  },
  {
   "cell_type": "code",
   "execution_count": 135,
   "id": "557a620c",
   "metadata": {},
   "outputs": [
    {
     "data": {
      "text/plain": [
       "20160"
      ]
     },
     "execution_count": 135,
     "metadata": {},
     "output_type": "execute_result"
    }
   ],
   "source": [
    "np.prod(b)"
   ]
  },
  {
   "cell_type": "markdown",
   "id": "c95477fa",
   "metadata": {},
   "source": [
    "#### Exercise 6 - refactor the following to use numpy to find the list of squares "
   ]
  },
  {
   "cell_type": "code",
   "execution_count": null,
   "id": "5969e99a",
   "metadata": {},
   "outputs": [],
   "source": [
    "squares_of_b = []\n",
    "for row in b:\n",
    "    for number in row:\n",
    "        squares_of_b.append(number**2)"
   ]
  },
  {
   "cell_type": "code",
   "execution_count": 137,
   "id": "73ff60ff",
   "metadata": {},
   "outputs": [
    {
     "data": {
      "text/plain": [
       "array([[ 9, 16, 25],\n",
       "       [36, 49, 64]])"
      ]
     },
     "execution_count": 137,
     "metadata": {},
     "output_type": "execute_result"
    }
   ],
   "source": [
    "np.square(b)"
   ]
  },
  {
   "cell_type": "code",
   "execution_count": 136,
   "id": "4b5ffb95",
   "metadata": {},
   "outputs": [
    {
     "data": {
      "text/plain": [
       "array([[ 9, 16, 25],\n",
       "       [36, 49, 64]])"
      ]
     },
     "execution_count": 136,
     "metadata": {},
     "output_type": "execute_result"
    }
   ],
   "source": [
    "b ** 2"
   ]
  },
  {
   "cell_type": "markdown",
   "id": "c6c58958",
   "metadata": {},
   "source": [
    "#### Exercise 7 - refactor using numpy to determine the odds_in_b"
   ]
  },
  {
   "cell_type": "code",
   "execution_count": null,
   "id": "67bbe3ac",
   "metadata": {},
   "outputs": [],
   "source": [
    "odds_in_b = []\n",
    "for row in b:\n",
    "    for number in row:\n",
    "        if(number % 2 != 0):\n",
    "            odds_in_b.append(number)"
   ]
  },
  {
   "cell_type": "code",
   "execution_count": 138,
   "id": "6cb66ae2",
   "metadata": {},
   "outputs": [
    {
     "data": {
      "text/plain": [
       "array([3, 5, 7])"
      ]
     },
     "execution_count": 138,
     "metadata": {},
     "output_type": "execute_result"
    }
   ],
   "source": [
    "b [b % 2 == 1]"
   ]
  },
  {
   "cell_type": "markdown",
   "id": "ad8572da",
   "metadata": {},
   "source": [
    "#### Exercise 8 - refactor the following to use numpy to filter only the even numbers"
   ]
  },
  {
   "cell_type": "code",
   "execution_count": null,
   "id": "83e9c209",
   "metadata": {},
   "outputs": [],
   "source": [
    "evens_in_b = []\n",
    "for row in b:\n",
    "    for number in row:\n",
    "        if(number % 2 == 0):\n",
    "            evens_in_b.append(number)"
   ]
  },
  {
   "cell_type": "code",
   "execution_count": 139,
   "id": "6676aa20",
   "metadata": {},
   "outputs": [
    {
     "data": {
      "text/plain": [
       "array([4, 6, 8])"
      ]
     },
     "execution_count": 139,
     "metadata": {},
     "output_type": "execute_result"
    }
   ],
   "source": [
    "b [b % 2 == 0]"
   ]
  },
  {
   "cell_type": "code",
   "execution_count": null,
   "id": "d030c956",
   "metadata": {},
   "outputs": [],
   "source": [
    "# Exercise 9 - print out the shape of the array b."
   ]
  },
  {
   "cell_type": "code",
   "execution_count": 141,
   "id": "7e4f4c11",
   "metadata": {},
   "outputs": [
    {
     "data": {
      "text/plain": [
       "array([[3, 4, 5],\n",
       "       [6, 7, 8]])"
      ]
     },
     "execution_count": 141,
     "metadata": {},
     "output_type": "execute_result"
    }
   ],
   "source": [
    "b "
   ]
  },
  {
   "cell_type": "code",
   "execution_count": 140,
   "id": "e471fe77",
   "metadata": {},
   "outputs": [
    {
     "data": {
      "text/plain": [
       "(2, 3)"
      ]
     },
     "execution_count": 140,
     "metadata": {},
     "output_type": "execute_result"
    }
   ],
   "source": [
    "b.shape # rows vs columns"
   ]
  },
  {
   "cell_type": "markdown",
   "id": "88cf50e2",
   "metadata": {},
   "source": [
    "#### Exercise 10 - transpose the array b."
   ]
  },
  {
   "cell_type": "code",
   "execution_count": 142,
   "id": "41f36850",
   "metadata": {},
   "outputs": [
    {
     "data": {
      "text/plain": [
       "array([[3, 6],\n",
       "       [4, 7],\n",
       "       [5, 8]])"
      ]
     },
     "execution_count": 142,
     "metadata": {},
     "output_type": "execute_result"
    }
   ],
   "source": [
    "np.transpose(b) #numpy function"
   ]
  },
  {
   "cell_type": "code",
   "execution_count": 143,
   "id": "156f5981",
   "metadata": {
    "scrolled": true
   },
   "outputs": [
    {
     "data": {
      "text/plain": [
       "(3, 2)"
      ]
     },
     "execution_count": 143,
     "metadata": {},
     "output_type": "execute_result"
    }
   ],
   "source": [
    "np.transpose(b).shape"
   ]
  },
  {
   "cell_type": "code",
   "execution_count": 144,
   "id": "6fbd79fb",
   "metadata": {},
   "outputs": [
    {
     "data": {
      "text/plain": [
       "array([[3, 6],\n",
       "       [4, 7],\n",
       "       [5, 8]])"
      ]
     },
     "execution_count": 144,
     "metadata": {},
     "output_type": "execute_result"
    }
   ],
   "source": [
    "b.T #method"
   ]
  },
  {
   "cell_type": "markdown",
   "id": "3ccc8eef",
   "metadata": {},
   "source": [
    "#### Exercise 11 - reshape the array b to be a single list of 6 numbers. (1 x 6)"
   ]
  },
  {
   "cell_type": "code",
   "execution_count": 145,
   "id": "6e3a041b",
   "metadata": {},
   "outputs": [
    {
     "data": {
      "text/plain": [
       "array([[3, 4, 5],\n",
       "       [6, 7, 8]])"
      ]
     },
     "execution_count": 145,
     "metadata": {},
     "output_type": "execute_result"
    }
   ],
   "source": [
    "b"
   ]
  },
  {
   "cell_type": "code",
   "execution_count": 146,
   "id": "a573a557",
   "metadata": {},
   "outputs": [
    {
     "data": {
      "text/plain": [
       "array([[3, 4, 5, 6, 7, 8]])"
      ]
     },
     "execution_count": 146,
     "metadata": {},
     "output_type": "execute_result"
    }
   ],
   "source": [
    "np.reshape(b, (1,6)) #numpy function"
   ]
  },
  {
   "cell_type": "code",
   "execution_count": 147,
   "id": "38c2ca37",
   "metadata": {},
   "outputs": [
    {
     "data": {
      "text/plain": [
       "array([3, 4, 5, 6, 7, 8])"
      ]
     },
     "execution_count": 147,
     "metadata": {},
     "output_type": "execute_result"
    }
   ],
   "source": [
    "b.flatten() #object"
   ]
  },
  {
   "cell_type": "markdown",
   "id": "158f064e",
   "metadata": {},
   "source": [
    "#### Exercise 12 - reshape the array b to be a list of 6 lists, each containing only 1 number (6 x 1)"
   ]
  },
  {
   "cell_type": "code",
   "execution_count": 148,
   "id": "a66b7f18",
   "metadata": {},
   "outputs": [
    {
     "data": {
      "text/plain": [
       "array([[3],\n",
       "       [4],\n",
       "       [5],\n",
       "       [6],\n",
       "       [7],\n",
       "       [8]])"
      ]
     },
     "execution_count": 148,
     "metadata": {},
     "output_type": "execute_result"
    }
   ],
   "source": [
    "np.reshape(b, (6,1))"
   ]
  },
  {
   "cell_type": "markdown",
   "id": "8692f310",
   "metadata": {},
   "source": [
    "## Setup 3"
   ]
  },
  {
   "cell_type": "code",
   "execution_count": 150,
   "id": "a256992c",
   "metadata": {},
   "outputs": [],
   "source": [
    "c = [\n",
    "    [1, 2, 3],\n",
    "    [4, 5, 6],\n",
    "    [7, 8, 9]\n",
    "]\n",
    "\n",
    "# HINT, you'll first need to make sure that the \"c\" variable \n",
    "# is a numpy array prior to using numpy array methods."
   ]
  },
  {
   "cell_type": "code",
   "execution_count": 151,
   "id": "d86669d4",
   "metadata": {},
   "outputs": [
    {
     "data": {
      "text/plain": [
       "array([[1, 2, 3],\n",
       "       [4, 5, 6],\n",
       "       [7, 8, 9]])"
      ]
     },
     "execution_count": 151,
     "metadata": {},
     "output_type": "execute_result"
    }
   ],
   "source": [
    "c = np.array(c)\n",
    "c"
   ]
  },
  {
   "cell_type": "markdown",
   "id": "a67a9dbf",
   "metadata": {},
   "source": [
    "#### Exercise 1 - Find the min, max, sum, and product of c."
   ]
  },
  {
   "cell_type": "code",
   "execution_count": 152,
   "id": "d7a256c0",
   "metadata": {},
   "outputs": [
    {
     "data": {
      "text/plain": [
       "(1, 9, 45, 362880)"
      ]
     },
     "execution_count": 152,
     "metadata": {},
     "output_type": "execute_result"
    }
   ],
   "source": [
    "c.min(), c.max(), c.sum(), c.prod()"
   ]
  },
  {
   "cell_type": "markdown",
   "id": "c8a29c39",
   "metadata": {},
   "source": [
    "#### Exercise 2 - Determine the standard deviation of c."
   ]
  },
  {
   "cell_type": "code",
   "execution_count": 155,
   "id": "b00166c5",
   "metadata": {},
   "outputs": [
    {
     "data": {
      "text/plain": [
       "2.581988897471611"
      ]
     },
     "execution_count": 155,
     "metadata": {},
     "output_type": "execute_result"
    }
   ],
   "source": [
    "c.std()"
   ]
  },
  {
   "cell_type": "markdown",
   "id": "cbfae534",
   "metadata": {},
   "source": [
    "#### Exercise 3 - Determine the variance of c."
   ]
  },
  {
   "cell_type": "code",
   "execution_count": 154,
   "id": "9c406560",
   "metadata": {},
   "outputs": [
    {
     "data": {
      "text/plain": [
       "6.666666666666667"
      ]
     },
     "execution_count": 154,
     "metadata": {},
     "output_type": "execute_result"
    }
   ],
   "source": [
    "c.var()"
   ]
  },
  {
   "cell_type": "markdown",
   "id": "5ad20f0d",
   "metadata": {},
   "source": [
    "#### Exercise 4 - Print out the shape of the array c"
   ]
  },
  {
   "cell_type": "code",
   "execution_count": 156,
   "id": "eab4e814",
   "metadata": {},
   "outputs": [
    {
     "data": {
      "text/plain": [
       "(3, 3)"
      ]
     },
     "execution_count": 156,
     "metadata": {},
     "output_type": "execute_result"
    }
   ],
   "source": [
    "c.shape #attribute #doesn't need parenthesis"
   ]
  },
  {
   "cell_type": "markdown",
   "id": "7084dc18",
   "metadata": {},
   "source": [
    "#### Exercise 5 - Transpose c and print out transposed result."
   ]
  },
  {
   "cell_type": "code",
   "execution_count": 157,
   "id": "f1617961",
   "metadata": {},
   "outputs": [
    {
     "data": {
      "text/plain": [
       "array([[1, 2, 3],\n",
       "       [4, 5, 6],\n",
       "       [7, 8, 9]])"
      ]
     },
     "execution_count": 157,
     "metadata": {},
     "output_type": "execute_result"
    }
   ],
   "source": [
    "c"
   ]
  },
  {
   "cell_type": "code",
   "execution_count": 158,
   "id": "fe459048",
   "metadata": {},
   "outputs": [
    {
     "data": {
      "text/plain": [
       "array([[1, 4, 7],\n",
       "       [2, 5, 8],\n",
       "       [3, 6, 9]])"
      ]
     },
     "execution_count": 158,
     "metadata": {},
     "output_type": "execute_result"
    }
   ],
   "source": [
    "c.T"
   ]
  },
  {
   "cell_type": "markdown",
   "id": "4befac80",
   "metadata": {},
   "source": [
    "#### Exercise 6 - Get the dot product of the array c with c. "
   ]
  },
  {
   "cell_type": "code",
   "execution_count": 159,
   "id": "6ffed45b",
   "metadata": {},
   "outputs": [
    {
     "data": {
      "text/plain": [
       "array([[ 30,  36,  42],\n",
       "       [ 66,  81,  96],\n",
       "       [102, 126, 150]])"
      ]
     },
     "execution_count": 159,
     "metadata": {},
     "output_type": "execute_result"
    }
   ],
   "source": [
    "np.dot(c, c) # dot product is more than just multiplying itself (involves magnitude... and stuff)"
   ]
  },
  {
   "cell_type": "markdown",
   "id": "42c2234f",
   "metadata": {},
   "source": [
    "#### Exercise 7 - Write the code necessary to sum up the result of c times c transposed. Answer should be 261"
   ]
  },
  {
   "cell_type": "code",
   "execution_count": 163,
   "id": "e364742f",
   "metadata": {},
   "outputs": [
    {
     "data": {
      "text/plain": [
       "array([[ 1,  8, 21],\n",
       "       [ 8, 25, 48],\n",
       "       [21, 48, 81]])"
      ]
     },
     "execution_count": 163,
     "metadata": {},
     "output_type": "execute_result"
    }
   ],
   "source": [
    "(c.T * c)"
   ]
  },
  {
   "cell_type": "code",
   "execution_count": 162,
   "id": "b4e86232",
   "metadata": {},
   "outputs": [
    {
     "data": {
      "text/plain": [
       "261"
      ]
     },
     "execution_count": 162,
     "metadata": {},
     "output_type": "execute_result"
    }
   ],
   "source": [
    "(c.T * c).sum()"
   ]
  },
  {
   "cell_type": "markdown",
   "id": "78bd8614",
   "metadata": {},
   "source": [
    "#### Exercise 8 - Write the code necessary to determine the product of c times c transposed. \n",
    "Answer should be 131681894400."
   ]
  },
  {
   "cell_type": "code",
   "execution_count": 164,
   "id": "bdb17493",
   "metadata": {},
   "outputs": [
    {
     "data": {
      "text/plain": [
       "array([[ 1,  8, 21],\n",
       "       [ 8, 25, 48],\n",
       "       [21, 48, 81]])"
      ]
     },
     "execution_count": 164,
     "metadata": {},
     "output_type": "execute_result"
    }
   ],
   "source": [
    "(c.T * c)"
   ]
  },
  {
   "cell_type": "code",
   "execution_count": 165,
   "id": "7e528e27",
   "metadata": {},
   "outputs": [
    {
     "data": {
      "text/plain": [
       "131681894400"
      ]
     },
     "execution_count": 165,
     "metadata": {},
     "output_type": "execute_result"
    }
   ],
   "source": [
    "(c.T * c).prod()"
   ]
  },
  {
   "cell_type": "markdown",
   "id": "641de0b6",
   "metadata": {},
   "source": [
    "## Setup 4"
   ]
  },
  {
   "cell_type": "code",
   "execution_count": 183,
   "id": "4ec251a9",
   "metadata": {},
   "outputs": [],
   "source": [
    "d = [\n",
    "    [90, 30, 45, 0, 120, 180],\n",
    "    [45, -90, -30, 270, 90, 0],\n",
    "    [60, 45, -45, 90, -45, 180]\n",
    "]"
   ]
  },
  {
   "cell_type": "code",
   "execution_count": 184,
   "id": "b2e27657",
   "metadata": {},
   "outputs": [],
   "source": [
    "d = np.array(d)"
   ]
  },
  {
   "cell_type": "markdown",
   "id": "ec06e73c",
   "metadata": {},
   "source": [
    "#### Exercise 1 - Find the sine of all the numbers in d"
   ]
  },
  {
   "cell_type": "code",
   "execution_count": 185,
   "id": "4af0c350",
   "metadata": {},
   "outputs": [
    {
     "data": {
      "text/plain": [
       "array([[ 0.89399666, -0.98803162,  0.85090352,  0.        ,  0.58061118,\n",
       "        -0.80115264],\n",
       "       [ 0.85090352, -0.89399666,  0.98803162, -0.17604595,  0.89399666,\n",
       "         0.        ],\n",
       "       [-0.30481062,  0.85090352, -0.85090352,  0.89399666, -0.85090352,\n",
       "        -0.80115264]])"
      ]
     },
     "execution_count": 185,
     "metadata": {},
     "output_type": "execute_result"
    }
   ],
   "source": [
    "np.sin(d)"
   ]
  },
  {
   "cell_type": "markdown",
   "id": "0f69750d",
   "metadata": {},
   "source": [
    "#### Exercise 2 - Find the cosine of all the numbers in d"
   ]
  },
  {
   "cell_type": "code",
   "execution_count": 186,
   "id": "b678f1ab",
   "metadata": {},
   "outputs": [
    {
     "data": {
      "text/plain": [
       "array([[-0.44807362,  0.15425145,  0.52532199,  1.        ,  0.81418097,\n",
       "        -0.59846007],\n",
       "       [ 0.52532199, -0.44807362,  0.15425145,  0.98438195, -0.44807362,\n",
       "         1.        ],\n",
       "       [-0.95241298,  0.52532199,  0.52532199, -0.44807362,  0.52532199,\n",
       "        -0.59846007]])"
      ]
     },
     "execution_count": 186,
     "metadata": {},
     "output_type": "execute_result"
    }
   ],
   "source": [
    "np.cos(d)"
   ]
  },
  {
   "cell_type": "markdown",
   "id": "0a8a9714",
   "metadata": {},
   "source": [
    "#### Exercise 3 - Find the tangent of all the numbers in d"
   ]
  },
  {
   "cell_type": "code",
   "execution_count": 187,
   "id": "f4f740f5",
   "metadata": {},
   "outputs": [
    {
     "data": {
      "text/plain": [
       "array([[-1.99520041, -6.4053312 ,  1.61977519,  0.        ,  0.71312301,\n",
       "         1.33869021],\n",
       "       [ 1.61977519,  1.99520041,  6.4053312 , -0.17883906, -1.99520041,\n",
       "         0.        ],\n",
       "       [ 0.32004039,  1.61977519, -1.61977519, -1.99520041, -1.61977519,\n",
       "         1.33869021]])"
      ]
     },
     "execution_count": 187,
     "metadata": {},
     "output_type": "execute_result"
    }
   ],
   "source": [
    "np.tan(d)"
   ]
  },
  {
   "cell_type": "markdown",
   "id": "425df17c",
   "metadata": {},
   "source": [
    "#### Exercise 4 - Find all the negative numbers in d"
   ]
  },
  {
   "cell_type": "code",
   "execution_count": 188,
   "id": "966a6e75",
   "metadata": {},
   "outputs": [
    {
     "data": {
      "text/plain": [
       "array([[ 90,  30,  45,   0, 120, 180],\n",
       "       [ 45, -90, -30, 270,  90,   0],\n",
       "       [ 60,  45, -45,  90, -45, 180]])"
      ]
     },
     "execution_count": 188,
     "metadata": {},
     "output_type": "execute_result"
    }
   ],
   "source": [
    "d"
   ]
  },
  {
   "cell_type": "code",
   "execution_count": 189,
   "id": "f18589da",
   "metadata": {},
   "outputs": [
    {
     "data": {
      "text/plain": [
       "array([-90, -30, -45, -45])"
      ]
     },
     "execution_count": 189,
     "metadata": {},
     "output_type": "execute_result"
    }
   ],
   "source": [
    "d [d < 0]"
   ]
  },
  {
   "cell_type": "markdown",
   "id": "74caf4d7",
   "metadata": {},
   "source": [
    "#### Exercise 5 - Find all the positive numbers in d"
   ]
  },
  {
   "cell_type": "code",
   "execution_count": 190,
   "id": "a517eba3",
   "metadata": {},
   "outputs": [
    {
     "data": {
      "text/plain": [
       "array([ 90,  30,  45, 120, 180,  45, 270,  90,  60,  45,  90, 180])"
      ]
     },
     "execution_count": 190,
     "metadata": {},
     "output_type": "execute_result"
    }
   ],
   "source": [
    "d [d > 0]"
   ]
  },
  {
   "cell_type": "markdown",
   "id": "0f3c59e6",
   "metadata": {},
   "source": [
    "#### Exercise 6 - Return an array of only the unique numbers in d."
   ]
  },
  {
   "cell_type": "code",
   "execution_count": 191,
   "id": "24038e31",
   "metadata": {},
   "outputs": [
    {
     "data": {
      "text/plain": [
       "array([-90, -45, -30,   0,  30,  45,  60,  90, 120, 180, 270])"
      ]
     },
     "execution_count": 191,
     "metadata": {},
     "output_type": "execute_result"
    }
   ],
   "source": [
    "np.unique(d)"
   ]
  },
  {
   "cell_type": "markdown",
   "id": "abafa840",
   "metadata": {},
   "source": [
    "#### Exercise 7 - Determine how many unique numbers there are in d."
   ]
  },
  {
   "cell_type": "code",
   "execution_count": 193,
   "id": "6a83904a",
   "metadata": {},
   "outputs": [
    {
     "data": {
      "text/plain": [
       "11"
      ]
     },
     "execution_count": 193,
     "metadata": {},
     "output_type": "execute_result"
    }
   ],
   "source": [
    "len(np.unique(d)) # The way to go!"
   ]
  },
  {
   "cell_type": "code",
   "execution_count": 192,
   "id": "b3ff6a48",
   "metadata": {
    "scrolled": true
   },
   "outputs": [
    {
     "data": {
      "text/plain": [
       "10"
      ]
     },
     "execution_count": 192,
     "metadata": {},
     "output_type": "execute_result"
    }
   ],
   "source": [
    "np.count_nonzero(np.unique(d)) # doesn't work here because for some reason, the function doesn't include 0"
   ]
  },
  {
   "cell_type": "markdown",
   "id": "38796fba",
   "metadata": {},
   "source": [
    "#### Exercise 8 - Print out the shape of d."
   ]
  },
  {
   "cell_type": "code",
   "execution_count": 194,
   "id": "851ed52e",
   "metadata": {},
   "outputs": [
    {
     "data": {
      "text/plain": [
       "array([[ 90,  30,  45,   0, 120, 180],\n",
       "       [ 45, -90, -30, 270,  90,   0],\n",
       "       [ 60,  45, -45,  90, -45, 180]])"
      ]
     },
     "execution_count": 194,
     "metadata": {},
     "output_type": "execute_result"
    }
   ],
   "source": [
    "d"
   ]
  },
  {
   "cell_type": "code",
   "execution_count": 195,
   "id": "dd03f06b",
   "metadata": {},
   "outputs": [
    {
     "data": {
      "text/plain": [
       "(3, 6)"
      ]
     },
     "execution_count": 195,
     "metadata": {},
     "output_type": "execute_result"
    }
   ],
   "source": [
    "d.shape #rows vs columns"
   ]
  },
  {
   "cell_type": "markdown",
   "id": "a39783b5",
   "metadata": {},
   "source": [
    "#### Exercise 9 - Transpose and then print out the shape of d."
   ]
  },
  {
   "cell_type": "code",
   "execution_count": 198,
   "id": "17b1983d",
   "metadata": {},
   "outputs": [
    {
     "data": {
      "text/plain": [
       "array([[ 90,  45,  60],\n",
       "       [ 30, -90,  45],\n",
       "       [ 45, -30, -45],\n",
       "       [  0, 270,  90],\n",
       "       [120,  90, -45],\n",
       "       [180,   0, 180]])"
      ]
     },
     "execution_count": 198,
     "metadata": {},
     "output_type": "execute_result"
    }
   ],
   "source": [
    "d.T"
   ]
  },
  {
   "cell_type": "code",
   "execution_count": 197,
   "id": "04438d80",
   "metadata": {},
   "outputs": [
    {
     "data": {
      "text/plain": [
       "(6, 3)"
      ]
     },
     "execution_count": 197,
     "metadata": {},
     "output_type": "execute_result"
    }
   ],
   "source": [
    "d.T.shape"
   ]
  },
  {
   "cell_type": "markdown",
   "id": "18421ad5",
   "metadata": {},
   "source": [
    "#### Exercise 10 - Reshape d into an array of 9 x 2"
   ]
  },
  {
   "cell_type": "code",
   "execution_count": 199,
   "id": "fbf10b0d",
   "metadata": {},
   "outputs": [
    {
     "data": {
      "text/plain": [
       "array([[ 90,  30,  45,   0, 120, 180],\n",
       "       [ 45, -90, -30, 270,  90,   0],\n",
       "       [ 60,  45, -45,  90, -45, 180]])"
      ]
     },
     "execution_count": 199,
     "metadata": {},
     "output_type": "execute_result"
    }
   ],
   "source": [
    "d"
   ]
  },
  {
   "cell_type": "code",
   "execution_count": 200,
   "id": "3eaaa5ee",
   "metadata": {},
   "outputs": [
    {
     "data": {
      "text/plain": [
       "array([[ 90,  30],\n",
       "       [ 45,   0],\n",
       "       [120, 180],\n",
       "       [ 45, -90],\n",
       "       [-30, 270],\n",
       "       [ 90,   0],\n",
       "       [ 60,  45],\n",
       "       [-45,  90],\n",
       "       [-45, 180]])"
      ]
     },
     "execution_count": 200,
     "metadata": {},
     "output_type": "execute_result"
    }
   ],
   "source": [
    "np.reshape(d, (9,2))"
   ]
  }
 ],
 "metadata": {
  "kernelspec": {
   "display_name": "Python 3 (ipykernel)",
   "language": "python",
   "name": "python3"
  },
  "language_info": {
   "codemirror_mode": {
    "name": "ipython",
    "version": 3
   },
   "file_extension": ".py",
   "mimetype": "text/x-python",
   "name": "python",
   "nbconvert_exporter": "python",
   "pygments_lexer": "ipython3",
   "version": "3.11.5"
  }
 },
 "nbformat": 4,
 "nbformat_minor": 5
}
